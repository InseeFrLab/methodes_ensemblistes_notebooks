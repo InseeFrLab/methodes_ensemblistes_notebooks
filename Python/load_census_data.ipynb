{
 "cells": [
  {
   "cell_type": "markdown",
   "id": "91615355-5953-4f46-8979-897d4a883291",
   "metadata": {},
   "source": [
    "## Charger les données"
   ]
  },
  {
   "cell_type": "code",
   "execution_count": 83,
   "id": "a6422abc-ae28-4f0e-8e4b-23059f0055e5",
   "metadata": {},
   "outputs": [],
   "source": [
    "# Se connecter au bucket\n",
    "import os\n",
    "import s3fs\n",
    "import zipfile\n",
    "import requests\n",
    "\n",
    "endpoint = \"https://\"+os.environ['AWS_S3_ENDPOINT']\n",
    "fs = s3fs.S3FileSystem(client_kwargs={'endpoint_url': endpoint})"
   ]
  },
  {
   "cell_type": "code",
   "execution_count": 84,
   "id": "2ec0c742-4157-40d8-82a3-79802c3b5e0f",
   "metadata": {},
   "outputs": [],
   "source": [
    "# Load Census data on individuals\n",
    "with fs.open('s3://oliviermeslin/rp/data_census_individuals.parquet', 'rb') as file:\n",
    "    data_census_individuals = pd.read_parquet(file)"
   ]
  },
  {
   "cell_type": "code",
   "execution_count": 85,
   "id": "49724247-df97-4bbb-9266-67b3771962e4",
   "metadata": {},
   "outputs": [],
   "source": [
    "# Load Census data on dwellings\n",
    "with fs.open('s3://oliviermeslin/rp/data_census_dwellings.parquet', 'rb') as file:\n",
    "    data_census_dwellings = pd.read_parquet(file)"
   ]
  }
 ],
 "metadata": {
  "kernelspec": {
   "display_name": "Python 3 (ipykernel)",
   "language": "python",
   "name": "python3"
  },
  "language_info": {
   "codemirror_mode": {
    "name": "ipython",
    "version": 3
   },
   "file_extension": ".py",
   "mimetype": "text/x-python",
   "name": "python",
   "nbconvert_exporter": "python",
   "pygments_lexer": "ipython3",
   "version": "3.12.6"
  }
 },
 "nbformat": 4,
 "nbformat_minor": 5
}
