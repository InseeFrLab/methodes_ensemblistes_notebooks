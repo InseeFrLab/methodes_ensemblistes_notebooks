{
 "cells": [
  {
   "cell_type": "code",
   "execution_count": 3,
   "id": "a6422abc-ae28-4f0e-8e4b-23059f0055e5",
   "metadata": {},
   "outputs": [],
   "source": [
    "# Connect to S3 bucket\n",
    "import os\n",
    "import s3fs\n",
    "import zipfile\n",
    "import requests\n",
    "\n",
    "endpoint = \"https://\"+os.environ['AWS_S3_ENDPOINT']\n",
    "fs = s3fs.S3FileSystem(client_kwargs={'endpoint_url': endpoint})"
   ]
  },
  {
   "cell_type": "markdown",
   "id": "fdf182c5-ba54-4aa5-b142-2b4cda690dbc",
   "metadata": {},
   "source": [
    "## Data on individuals"
   ]
  },
  {
   "cell_type": "code",
   "execution_count": 4,
   "id": "6aff62f1-e185-427e-8a53-fb774bb5ed07",
   "metadata": {
    "scrolled": true
   },
   "outputs": [],
   "source": [
    "# Load Census data on individuals\n",
    "url = 'https://www.data.gouv.fr/fr/datasets/r/c8e1b241-75fe-43e9-a266-830fc30ec61d'\n",
    "with open('data_census_individuals.parquet', 'wb') as out_file:\n",
    "    out_file.write(requests.get(url).content)"
   ]
  },
  {
   "cell_type": "code",
   "execution_count": 5,
   "id": "2ec0c742-4157-40d8-82a3-79802c3b5e0f",
   "metadata": {},
   "outputs": [],
   "source": [
    "# Send Census data to S3 bucket\n",
    "with open('data_census_individuals.parquet', 'rb') as data_rp:\n",
    "    with fs.open('s3://oliviermeslin/rp/data_census_individuals.parquet', 'wb') as f_s3:\n",
    "        f_s3.write(data_rp.read())"
   ]
  },
  {
   "cell_type": "code",
   "execution_count": 7,
   "id": "6490fa9a-13e4-4906-bbe6-9559ca9e8630",
   "metadata": {},
   "outputs": [],
   "source": [
    "# Load Census metadata\n",
    "url2 = 'https://www.data.gouv.fr/fr/datasets/r/1c6c6ab2-b766-41a4-90f0-043173d5e9d1'\n",
    "with open('metadata_census_individuals.csv', 'wb') as out_file:\n",
    "    content = requests.get(url2, stream=True).content\n",
    "    out_file.write(content)"
   ]
  },
  {
   "cell_type": "code",
   "execution_count": 8,
   "id": "56b62239-6b08-404d-be38-e4b190351e22",
   "metadata": {},
   "outputs": [],
   "source": [
    "# Send Census metadata to S3 bucket\n",
    "with open('metadata_census_individuals.csv', 'rb') as metadata:\n",
    "    with fs.open('s3://oliviermeslin/rp/metadata_census_individuals.csv', 'wb') as s3_file:\n",
    "        s3_file.write(metadata.read())"
   ]
  },
  {
   "cell_type": "markdown",
   "id": "12863cdb-7836-4009-96b5-e5b1b5054897",
   "metadata": {},
   "source": [
    "## Data on dwellings"
   ]
  },
  {
   "cell_type": "code",
   "execution_count": 9,
   "id": "abf9db1c-4efc-452f-ac3e-57d1936ef96a",
   "metadata": {},
   "outputs": [],
   "source": [
    "# Load Census data on individuals\n",
    "url = 'https://www.data.gouv.fr/fr/datasets/r/f314175a-6d33-4ee4-b5eb-2cb6c29df2c2'\n",
    "with open('data_census_dwellings.parquet', 'wb') as out_file:\n",
    "    out_file.write(requests.get(url).content)"
   ]
  },
  {
   "cell_type": "code",
   "execution_count": null,
   "id": "d1d2cae2-ddf7-46a9-8596-5cbb69615b4b",
   "metadata": {},
   "outputs": [],
   "source": [
    "# Send Census data to S3 bucket\n",
    "with open('data_census_dwellings.parquet', 'rb') as data_rp:\n",
    "    with fs.open('s3://oliviermeslin/rp/data_census_dwellings.parquet', 'wb') as f_s3:\n",
    "        f_s3.write(data_rp.read())"
   ]
  },
  {
   "cell_type": "code",
   "execution_count": null,
   "id": "809d203c-1d57-4f80-8d7b-17eb15e200e4",
   "metadata": {},
   "outputs": [],
   "source": [
    "# Load Census metadata\n",
    "url2 = 'https://www.data.gouv.fr/fr/datasets/r/c274705f-98db-4d9b-9674-578e04f03198'\n",
    "with open('metadata_census_dwellings.csv', 'wb') as out_file:\n",
    "    content = requests.get(url2, stream=True).content\n",
    "    out_file.write(content)"
   ]
  },
  {
   "cell_type": "code",
   "execution_count": null,
   "id": "ee50453b-245e-4ace-9c1b-fe88515bf62e",
   "metadata": {},
   "outputs": [],
   "source": [
    "# Send Census metadata to S3 bucket\n",
    "with open('metadata_census_dwellings.csv', 'rb') as metadata:\n",
    "    with fs.open('s3://oliviermeslin/rp/metadata_census_dwellings.csv', 'wb') as s3_file:\n",
    "        s3_file.write(metadata.read())"
   ]
  }
 ],
 "metadata": {
  "kernelspec": {
   "display_name": "Python 3 (ipykernel)",
   "language": "python",
   "name": "python3"
  },
  "language_info": {
   "codemirror_mode": {
    "name": "ipython",
    "version": 3
   },
   "file_extension": ".py",
   "mimetype": "text/x-python",
   "name": "python",
   "nbconvert_exporter": "python",
   "pygments_lexer": "ipython3",
   "version": "3.12.6"
  }
 },
 "nbformat": 4,
 "nbformat_minor": 5
}
