{
 "cells": [
  {
   "cell_type": "code",
   "execution_count": 1,
   "id": "a6422abc-ae28-4f0e-8e4b-23059f0055e5",
   "metadata": {},
   "outputs": [],
   "source": [
    "# Connect to S3 bucket\n",
    "import os\n",
    "import s3fs\n",
    "import zipfile\n",
    "import requests\n",
    "\n",
    "endpoint = \"https://\"+os.environ['AWS_S3_ENDPOINT']\n",
    "fs = s3fs.S3FileSystem(client_kwargs={'endpoint_url': endpoint})"
   ]
  },
  {
   "cell_type": "code",
   "execution_count": 2,
   "id": "6aff62f1-e185-427e-8a53-fb774bb5ed07",
   "metadata": {
    "scrolled": true
   },
   "outputs": [],
   "source": [
    "# Load Census data\n",
    "url = 'https://www.data.gouv.fr/fr/datasets/recensement-de-la-population-fichiers-detail-individus-localises-au-canton-ou-ville-2020-1/#/resources/c8e1b241-75fe-43e9-a266-830fc30ec61d'\n",
    "with open('data_rp.parquet', 'wb') as out_file:\n",
    "    content = requests.get(url, stream=True).content\n",
    "    out_file.write(content)"
   ]
  },
  {
   "cell_type": "code",
   "execution_count": 3,
   "id": "2ec0c742-4157-40d8-82a3-79802c3b5e0f",
   "metadata": {},
   "outputs": [],
   "source": [
    "# Send Census data to S3 bucket\n",
    "with open('data_rp.parquet', 'rb') as data_rp:\n",
    "    with fs.open('s3://oliviermeslin/rp/data_rp.parquet', 'wb') as f_s3:\n",
    "        f_s3.write(data_rp.read())"
   ]
  },
  {
   "cell_type": "code",
   "execution_count": 9,
   "id": "6490fa9a-13e4-4906-bbe6-9559ca9e8630",
   "metadata": {},
   "outputs": [],
   "source": [
    "# Load Census metadata\n",
    "url2 = 'https://www.data.gouv.fr/fr/datasets/recensement-de-la-population-fichiers-detail-individus-localises-au-canton-ou-ville-2020-1/#/resources/1c6c6ab2-b766-41a4-90f0-043173d5e9d1'\n",
    "with open('dictionnaire-variables-indcvi-2020.csv', 'wb') as out_file:\n",
    "    content = requests.get(url2, stream=True).content\n",
    "    out_file.write(content)"
   ]
  },
  {
   "cell_type": "code",
   "execution_count": 11,
   "id": "06882adf-e5a1-4d64-8407-857205d2175d",
   "metadata": {},
   "outputs": [],
   "source": [
    "# Send Census metadata to S3 bucket\n",
    "with open('dictionnaire-variables-indcvi-2020.csv', 'rb') as metadata:\n",
    "    with fs.open('s3://oliviermeslin/rp/dictionnaire-variables-indcvi-2020.csv', 'wb') as s3_file:\n",
    "        s3_file.write(metadata.read())"
   ]
  }
 ],
 "metadata": {
  "kernelspec": {
   "display_name": "Python 3 (ipykernel)",
   "language": "python",
   "name": "python3"
  },
  "language_info": {
   "codemirror_mode": {
    "name": "ipython",
    "version": 3
   },
   "file_extension": ".py",
   "mimetype": "text/x-python",
   "name": "python",
   "nbconvert_exporter": "python",
   "pygments_lexer": "ipython3",
   "version": "3.12.6"
  }
 },
 "nbformat": 4,
 "nbformat_minor": 5
}
